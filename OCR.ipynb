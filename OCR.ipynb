{
 "cells": [
  {
   "cell_type": "code",
   "execution_count": 1,
   "metadata": {},
   "outputs": [
    {
     "name": "stdout",
     "output_type": "stream",
     "text": [
      "On Line +4 we manipulate the top-left pi\n",
      "age, which is located at coordinate (0,0) and wat it to have\n",
      "a value uf (0, 0, 255), If we were reading, this pixel value\n",
      "in RGB format, we would have a value of 0 for red, 0 for\n",
      "green, and 255 lor blue, thus making, Il a pure blue color,\n",
      "\n",
      "fel in the im-\n",
      "\n",
      " \n",
      "\n",
      " \n",
      "\n",
      " \n",
      "\n",
      " \n",
      "\n",
      "However, as T mentioned above, we need to take special\n",
      "care when working with OpenCV, Our pixels are actually\n",
      "stored in BGR format, not RGB format.\n",
      "\n",
      "‘We actually read this pixel as 256 for red, 0 for green, and\n",
      "0 for blue, making it a red color, of a blue color.\n",
      "\n",
      "After setting, the top-left pixel to have a red color on Line\n",
      "14, we then grab the pixel value and print it back to con\n",
      "sole on Lines 15 and 16, just to demonstrate that we have\n",
      "indeed successfully changed the color of the pixel\n",
      "\n",
      " \n",
      "\n",
      " \n",
      "\n",
      "Accessing and setting a single pixel value Is simple enough,\n",
      "but what if we wanted to use Numly’s array slicing capa\n",
      "bilities to access larger rectangular portions of the image?\n",
      "The code below demonstrates how we can do this:\n",
      "\n",
      "‘7 conn = amaga[0: 100, 0:100)\n",
      "\n",
      " \n",
      "\n",
      "umeua{0:100, 011001 = (W, 288, 0)\n",
      "\n",
      " \n",
      "\n",
      "Bo eve. temnovc-vpsncei\", tenes)\n",
      "\n",
      "On line 17 we grab a 100 100 pixel rogion of the image.\n",
      "In fact, this is the top-left corner of the image! In order to\n",
      "grab chunks of an image, NumPy expects we provide four\n"
     ]
    }
   ],
   "source": [
    "from PIL import Image\n",
    "import pytesseract\n",
    "iM=Image.open(\"Downloads/test1.png\")\n",
    "text=pytesseract.image_to_string(iM, lang='eng')\n",
    "print(text)"
   ]
  },
  {
   "cell_type": "code",
   "execution_count": null,
   "metadata": {},
   "outputs": [],
   "source": []
  }
 ],
 "metadata": {
  "kernelspec": {
   "display_name": "Python 3",
   "language": "python",
   "name": "python3"
  },
  "language_info": {
   "codemirror_mode": {
    "name": "ipython",
    "version": 3
   },
   "file_extension": ".py",
   "mimetype": "text/x-python",
   "name": "python",
   "nbconvert_exporter": "python",
   "pygments_lexer": "ipython3",
   "version": "3.7.3"
  }
 },
 "nbformat": 4,
 "nbformat_minor": 2
}
